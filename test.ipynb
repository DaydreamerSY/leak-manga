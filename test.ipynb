{
 "cells": [
  {
   "cell_type": "code",
   "execution_count": 1,
   "metadata": {
    "collapsed": true
   },
   "outputs": [],
   "source": [
    "import requests\n",
    "from bs4 import BeautifulSoup"
   ]
  },
  {
   "cell_type": "code",
   "execution_count": 10,
   "outputs": [],
   "source": [
    "def _get_content(url):\n",
    "    # url = \"https://ww.mangakakalot.tv/chapter/manga-hf984788/chapter-79\"\n",
    "    # url = \"https://ww.mangakakalot.tv/chapter/manga-hf984788/chapter-85\"\n",
    "    htmlpage = requests.get(url).content\n",
    "    soup = BeautifulSoup(htmlpage, features=\"lxml\")\n",
    "\n",
    "    papers = soup.find_all(\"img\")\n",
    "    imgs = []\n",
    "    for paper in papers:\n",
    "        # print((paper))\n",
    "        try:\n",
    "            # print(paper['data-src'])\n",
    "            imgs.append(paper['data-src'])\n",
    "        except:\n",
    "            continue\n",
    "\n",
    "    # print(imgs)\n",
    "\n",
    "    # btns = soup.find_all(\"a\", {\"class\": \"next\"})\n",
    "    # print(btns[0].text)\n",
    "    # a = btns[0].text\n",
    "    # txt = \"\"\n",
    "    # for c in a:\n",
    "    #     if c.isalpha():\n",
    "    #         txt += c\n",
    "    # print(txt)\n",
    "    # if txt == \"PREVCHAPTER\":\n",
    "    #     previous = txt\n",
    "    # else:\n",
    "    #     previous = \"NEXTCHAPTER\"\n",
    "\n",
    "    buttons = {}\n",
    "    btns = soup.find_all(\"a\", {\"class\": \"next\"})\n",
    "    for btn in btns:\n",
    "        temp_txt = btn.text\n",
    "        txt = \"\"\n",
    "        for c in temp_txt:\n",
    "            if c.isalpha():\n",
    "                txt += c\n",
    "        # print(txt)\n",
    "        if txt == \"PREVCHAPTER\":\n",
    "            buttons['prev'] = btn['href']\n",
    "        else:\n",
    "            buttons['next'] = btn['href']\n",
    "\n",
    "    # print(buttons)\n",
    "\n",
    "    return {\"url\": url, \"imgs\": imgs, \"btn\": buttons}"
   ],
   "metadata": {
    "collapsed": false,
    "pycharm": {
     "name": "#%%\n"
    }
   }
  },
  {
   "cell_type": "code",
   "execution_count": 12,
   "outputs": [
    {
     "name": "stdout",
     "output_type": "stream",
     "text": [
      "['https://cm.blazefast.co/ca/7f/ca7f4f91f5043309acf78e5ebabfe6f0.jpg', 'https://cm.blazefast.co/dc/8a/dc8af0b2e1f16caec8915b3b4fedb9ed.jpg', 'https://cm.blazefast.co/4e/f9/4ef94611f2b5897f6735e1f3156681b4.jpg', 'https://cm.blazefast.co/de/f6/def6d8facd20203ce180542f4527611e.jpg', 'https://cm.blazefast.co/4d/ca/4dca33a08aa1e2535888334f6a194394.jpg', 'https://cm.blazefast.co/b4/a9/b4a9887990e87a653dfa3a0411064137.jpg', 'https://cm.blazefast.co/e1/f8/e1f8884d75a97210aabbed9c0e1f657e.jpg', 'https://cm.blazefast.co/35/bb/35bb61baf23515c9db70e438a41d6e98.jpg']\n",
      "/chapter/manga-hf984788/chapter-80\n"
     ]
    }
   ],
   "source": [
    "result = _get_content(\"https://ww.mangakakalot.tv/chapter/manga-hf984788/chapter-79\")\n",
    "print(result['imgs'])\n",
    "print(result['btn']['next'])"
   ],
   "metadata": {
    "collapsed": false,
    "pycharm": {
     "name": "#%%\n"
    }
   }
  },
  {
   "cell_type": "code",
   "execution_count": null,
   "outputs": [],
   "source": [
    "url = \"https://ww.mangakakalot.tv/chapter/manga-hf984788/chapter-79\"\n",
    "temp = url.split(\"/\")\n",
    "temp\n",
    "\n",
    "new_url = f\"https://ww.mangakakalot.tv{result['btn']['next']}\"\n",
    "new_url"
   ],
   "metadata": {
    "collapsed": false,
    "pycharm": {
     "name": "#%%\n"
    }
   }
  },
  {
   "cell_type": "code",
   "execution_count": 28,
   "outputs": [
    {
     "name": "stdout",
     "output_type": "stream",
     "text": [
      "['//st.imageinstant.net/data/logos/logo-nettruyen.png', 'http://s.nettruyenpro.com/data/sites/1/banner/red88.gif', '//anhtoc.org/content/image.jpg?data=6JHwpoFGQSe41l/cKVeb42fxYkoTJx6//GJNBwPaO20kv3gK7Ng5/9gueTmz6Mm4', '//anhtoc.org/content/image.jpg?data=6JHwpoFGQSe41l/cKVeb42fxYkoTJx6//GJNBwPaO20r2cKnLOdrfxOnSjUQZ6hD', '//anhtoc.org/content/image.jpg?data=6JHwpoFGQSe41l/cKVeb42fxYkoTJx6//GJNBwPaO202VLeK4fxOrpI2yZ7ACn89', '//anhtoc.org/content/image.jpg?data=6JHwpoFGQSe41l/cKVeb42fxYkoTJx6//GJNBwPaO238bI5hkaFVT0w+8ZRhsITu', '//anhtoc.org/content/image.jpg?data=6JHwpoFGQSe41l/cKVeb42fxYkoTJx6//GJNBwPaO2384Md1K9xZe3NfzOH8K+/v', '//anhtoc.org/content/image.jpg?data=6JHwpoFGQSe41l/cKVeb42fxYkoTJx6//GJNBwPaO237ka6n3KfP1rNYhV3ftd1V', '//anhtoc.org/content/image.jpg?data=6JHwpoFGQSe41l/cKVeb42fxYkoTJx6//GJNBwPaO22icHSP8L+lOkiFEW7e0/V+', '//anhtoc.org/content/image.jpg?data=6JHwpoFGQSe41l/cKVeb42fxYkoTJx6//GJNBwPaO22nATyrbRl1wqU4E5O8n6yJ', '//anhtoc.org/content/image.jpg?data=6JHwpoFGQSe41l/cKVeb42fxYkoTJx6//GJNBwPaO201iEirRGSoniKzcHIQuSkp', '//anhtoc.org/content/image.jpg?data=6JHwpoFGQSe41l/cKVeb42fxYkoTJx6//GJNBwPaO23OYhh0jl6zJgitlcrrkolx', '//anhtoc.org/content/image.jpg?data=6JHwpoFGQSe41l/cKVeb42fxYkoTJx6//GJNBwPaO23MLkNF7HNxRD6RDpK9CndB', '//anhtoc.org/content/image.jpg?data=6JHwpoFGQSe41l/cKVeb42fxYkoTJx6//GJNBwPaO23jaliJOmWU9ELnyTGs2MP0', '//anhtoc.org/content/image.jpg?data=6JHwpoFGQSe41l/cKVeb42fxYkoTJx6//GJNBwPaO23PtWCx7AsKasM/EbbscR3z', '//anhtoc.org/content/image.jpg?data=6JHwpoFGQSe41l/cKVeb42fxYkoTJx6//GJNBwPaO23zfxTKpp+eAO7QyRpAhn8V', '//anhtoc.org/content/image.jpg?data=6JHwpoFGQSe41l/cKVeb42fxYkoTJx6//GJNBwPaO214OWCCCmKV4ivO97BKnFbm', '//anhtoc.org/content/image.jpg?data=6JHwpoFGQSe41l/cKVeb42fxYkoTJx6//GJNBwPaO20Afcuocu0WKdI8K/s3Zt5l', '//anhtoc.org/content/image.jpg?data=6JHwpoFGQSe41l/cKVeb42fxYkoTJx6//GJNBwPaO23mKlnJ80rGsmE91BYWZ9Ne', '//anhtoc.org/content/image.jpg?data=6JHwpoFGQSe41l/cKVeb42fxYkoTJx6//GJNBwPaO23pmuwM3merhelSTWcmO450', '//anhtoc.org/content/image.jpg?data=6JHwpoFGQSe41l/cKVeb42fxYkoTJx6//GJNBwPaO20rCM/ccObJ6Ms3mXsbt0JW', '//anhtoc.org/content/image.jpg?data=6JHwpoFGQSe41l/cKVeb42fxYkoTJx6//GJNBwPaO20z7rUkD+aNtGq0Bbw4O85s', '//anhtoc.org/content/image.jpg?data=6JHwpoFGQSe41l/cKVeb42fxYkoTJx6//GJNBwPaO23Ji+rdW+6FmavUvNbj/75J', '//anhtoc.org/content/image.jpg?data=6JHwpoFGQSe41l/cKVeb42fxYkoTJx6//GJNBwPaO22m9sEmX+OAJbg51Y2zeota', '//anhtoc.org/content/image.jpg?data=6JHwpoFGQSe41l/cKVeb42fxYkoTJx6//GJNBwPaO21ulhwvB0zPsg9r/1ZvAHPS', 'data:image/gif;base64,R0lGODlhAQABAAD/ACwAAAAAAQABAAACADs=', 'http://s.nettruyenpro.com/data/sites/1/banner/rik.gif', 'data:image/gif;base64,R0lGODlhAQABAAD/ACwAAAAAAQABAAACADs=', 'data:image/gif;base64,R0lGODlhAQABAIAAAAAAAP///yH5BAEAAAAALAAAAAABAAEAAAIBRAA7', 'data:image/gif;base64,R0lGODlhAQABAIAAAAAAAP///yH5BAEAAAAALAAAAAABAAEAAAIBRAA7', 'data:image/gif;base64,R0lGODlhAQABAIAAAAAAAP///yH5BAEAAAAALAAAAAABAAEAAAIBRAA7', 'data:image/gif;base64,R0lGODlhAQABAIAAAAAAAP///yH5BAEAAAAALAAAAAABAAEAAAIBRAA7', 'data:image/gif;base64,R0lGODlhAQABAIAAAAAAAP///yH5BAEAAAAALAAAAAABAAEAAAIBRAA7', 'data:image/gif;base64,R0lGODlhAQABAIAAAAAAAP///yH5BAEAAAAALAAAAAABAAEAAAIBRAA7', 'data:image/gif;base64,R0lGODlhAQABAIAAAAAAAP///yH5BAEAAAAALAAAAAABAAEAAAIBRAA7', 'data:image/gif;base64,R0lGODlhAQABAIAAAAAAAP///yH5BAEAAAAALAAAAAABAAEAAAIBRAA7', 'data:image/gif;base64,R0lGODlhAQABAIAAAAAAAP///yH5BAEAAAAALAAAAAABAAEAAAIBRAA7', 'data:image/gif;base64,R0lGODlhAQABAIAAAAAAAP///yH5BAEAAAAALAAAAAABAAEAAAIBRAA7', 'data:image/gif;base64,R0lGODlhAQABAIAAAAAAAP///yH5BAEAAAAALAAAAAABAAEAAAIBRAA7', 'data:image/gif;base64,R0lGODlhAQABAIAAAAAAAP///yH5BAEAAAAALAAAAAABAAEAAAIBRAA7', 'data:image/gif;base64,R0lGODlhAQABAIAAAAAAAP///yH5BAEAAAAALAAAAAABAAEAAAIBRAA7', 'data:image/gif;base64,R0lGODlhAQABAIAAAAAAAP///yH5BAEAAAAALAAAAAABAAEAAAIBRAA7', 'data:image/gif;base64,R0lGODlhAQABAIAAAAAAAP///yH5BAEAAAAALAAAAAABAAEAAAIBRAA7', 'data:image/gif;base64,R0lGODlhAQABAIAAAAAAAP///yH5BAEAAAAALAAAAAABAAEAAAIBRAA7', '//st.imageinstant.net/data/logos/logo-nettruyen.png']\n"
     ]
    }
   ],
   "source": [
    "url = \"http://www.nettruyenpro.com/truyen-tranh/mao/chap-90/767285\"\n",
    "htmlpage = requests.get(url).content\n",
    "soup = BeautifulSoup(htmlpage, features=\"lxml\")\n",
    "\n",
    "papers = soup.find_all(\"img\")\n",
    "imgs = []\n",
    "for paper in papers:\n",
    "    # print((paper))\n",
    "    try:\n",
    "        # print(paper['data-src'])\n",
    "        imgs.append(paper['src'])\n",
    "    except:\n",
    "        continue\n",
    "\n",
    "print(imgs)"
   ],
   "metadata": {
    "collapsed": false,
    "pycharm": {
     "name": "#%%\n"
    }
   }
  },
  {
   "cell_type": "code",
   "execution_count": 30,
   "outputs": [
    {
     "name": "stdout",
     "output_type": "stream",
     "text": [
      "<a class=\"itemcrumb active\" href=\"http://www.nettruyenpro.com/truyen-tranh/mao/chap-90/767285\" itemprop=\"item\" itemtype=\"http://schema.org/Thing\"><span itemprop=\"name\">Chapter 90</span></a>\n",
      "<a class=\"itemcrumb active\" href=\"http://www.nettruyenpro.com/truyen-tranh/mao/chap-90/767285\" itemprop=\"item\" itemtype=\"http://schema.org/Thing\"><span itemprop=\"name\">Chapter 90</span></a>\n"
     ]
    }
   ],
   "source": [
    "buttons = {}\n",
    "next_btn = soup.find_all(\"a\")\n",
    "\n",
    "\n",
    "for btn_link in next_btn:\n",
    "    try:\n",
    "        if \"mao/chap\" in btn_link[\"href\"]:\n",
    "            print(btn_link)\n",
    "    except:\n",
    "        pass\n",
    "\n"
   ],
   "metadata": {
    "collapsed": false,
    "pycharm": {
     "name": "#%%\n"
    }
   }
  }
 ],
 "metadata": {
  "kernelspec": {
   "display_name": "Python 3",
   "language": "python",
   "name": "python3"
  },
  "language_info": {
   "codemirror_mode": {
    "name": "ipython",
    "version": 2
   },
   "file_extension": ".py",
   "mimetype": "text/x-python",
   "name": "python",
   "nbconvert_exporter": "python",
   "pygments_lexer": "ipython2",
   "version": "2.7.6"
  }
 },
 "nbformat": 4,
 "nbformat_minor": 0
}